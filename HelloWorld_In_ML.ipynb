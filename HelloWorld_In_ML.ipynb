{
 "cells": [
  {
   "cell_type": "markdown",
   "metadata": {},
   "source": [
    "# Machine Learning\n",
    "Machine learning enables computers to act and make data-driven decisions rather than being explicitly programmed to carry out a certain task."
   ]
  },
  {
   "cell_type": "markdown",
   "metadata": {},
   "source": [
    "This program Predicts whether it is Orange or Apple Baesd on Two features Weight and Texture (Smoothy or Bumpy)\n"
   ]
  },
  {
   "cell_type": "markdown",
   "metadata": {},
   "source": [
    "![title](figures/HelloWorldML.PNG)"
   ]
  },
  {
   "cell_type": "code",
   "execution_count": 2,
   "metadata": {},
   "outputs": [
    {
     "name": "stdout",
     "output_type": "stream",
     "text": [
      "['Orange']\n"
     ]
    }
   ],
   "source": [
    "# Importing sklearn library using tree algorithim\n",
    "from sklearn import tree\n",
    "\n",
    "#1 represents smoothy(Apples are more smooth)\n",
    "#0 represents Bumpy (Oranges are more Bumpy)\n",
    "features=[[150,0],\n",
    "          [170,0],\n",
    "          [140,1],\n",
    "          [130,1]]\n",
    "          \n",
    "labels=[\"Orange\",\n",
    "        \"Orange\",\n",
    "        \"Apple\",\n",
    "        \"Apple\"]\n",
    "\n",
    "clf=tree.DecisionTreeClassifier()\n",
    "#Mapping Features with Labels and Training my data on Decisiontreeclassifier algorithim\n",
    "clf.fit(features,labels)\n",
    "# now my Model clf is Ready To Predict\n",
    "print(clf.predict([[160,0]]))"
   ]
  },
  {
   "cell_type": "markdown",
   "metadata": {},
   "source": [
    "160  gram weight and Bumpy in texture is Orange Predicted by our ML Program.\n",
    "SuccessFully Completed Hello World in ML.\n"
   ]
  }
 ],
 "metadata": {
  "kernelspec": {
   "display_name": "Python 3",
   "language": "python",
   "name": "python3"
  },
  "language_info": {
   "codemirror_mode": {
    "name": "ipython",
    "version": 3
   },
   "file_extension": ".py",
   "mimetype": "text/x-python",
   "name": "python",
   "nbconvert_exporter": "python",
   "pygments_lexer": "ipython3",
   "version": "3.6.4"
  }
 },
 "nbformat": 4,
 "nbformat_minor": 2
}
